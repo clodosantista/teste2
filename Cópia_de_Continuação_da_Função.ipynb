{
  "nbformat": 4,
  "nbformat_minor": 0,
  "metadata": {
    "colab": {
      "provenance": []
    },
    "kernelspec": {
      "name": "python3",
      "display_name": "Python 3"
    },
    "language_info": {
      "name": "python"
    }
  },
  "cells": [
    {
      "cell_type": "code",
      "source": [
        "# funcao recursiva potencia(a,b)\n",
        "# potencia(a,b) = a * potencia(a, b-1)\n",
        "# caso base: potencia(a, 0) = 1\n",
        "def potencia(a, b):\n",
        "  if b == 0:\n",
        "    return 1\n",
        "    return a * potencia(a , b-1)"
      ],
      "metadata": {
        "id": "LemmXv368aCy"
      },
      "execution_count": null,
      "outputs": []
    },
    {
      "cell_type": "code",
      "source": [],
      "metadata": {
        "id": "kXS9QYaY6g9Y"
      },
      "execution_count": null,
      "outputs": []
    },
    {
      "cell_type": "code",
      "source": [
        "# versao iterativa\n",
        "# potencia(a,b) = a * a * ... * a, b vezes\n",
        "def potencia(a, b):\n",
        "  pot = 1\n",
        "  for _ in range(b):\n",
        "    pot = pot *= a"
      ],
      "metadata": {
        "colab": {
          "base_uri": "https://localhost:8080/",
          "height": 106
        },
        "id": "y2QoQrMU8Zrn",
        "outputId": "4f3908a5-0577-4336-a61b-a5613f357e98"
      },
      "execution_count": null,
      "outputs": [
        {
          "output_type": "error",
          "ename": "SyntaxError",
          "evalue": "invalid syntax (<ipython-input-4-3e5deb8dd87b>, line 6)",
          "traceback": [
            "\u001b[0;36m  File \u001b[0;32m\"<ipython-input-4-3e5deb8dd87b>\"\u001b[0;36m, line \u001b[0;32m6\u001b[0m\n\u001b[0;31m    pot = pot *= a\u001b[0m\n\u001b[0m              ^\u001b[0m\n\u001b[0;31mSyntaxError\u001b[0m\u001b[0;31m:\u001b[0m invalid syntax\n"
          ]
        }
      ]
    },
    {
      "cell_type": "code",
      "source": [],
      "metadata": {
        "id": "3BdLErIf9Yp1"
      },
      "execution_count": null,
      "outputs": []
    },
    {
      "cell_type": "code",
      "source": [
        "# Crie uma função lambda que recebe a temperatura em Celsius e retorna a temperatura em Fahrenheit.\n",
        "\n",
        " (lambda c: c*9/5+32)(0)"
      ],
      "metadata": {
        "colab": {
          "base_uri": "https://localhost:8080/",
          "height": 106
        },
        "id": "DP0EQUtj9WBQ",
        "outputId": "7738ab47-bd01-4577-f51c-81cffb97c85a"
      },
      "execution_count": null,
      "outputs": [
        {
          "output_type": "error",
          "ename": "IndentationError",
          "evalue": "unexpected indent (<ipython-input-6-692e9052c8ca>, line 3)",
          "traceback": [
            "\u001b[0;36m  File \u001b[0;32m\"<ipython-input-6-692e9052c8ca>\"\u001b[0;36m, line \u001b[0;32m3\u001b[0m\n\u001b[0;31m    (lambda c: c*9/5+32)(0)\u001b[0m\n\u001b[0m    ^\u001b[0m\n\u001b[0;31mIndentationError\u001b[0m\u001b[0;31m:\u001b[0m unexpected indent\n"
          ]
        }
      ]
    },
    {
      "cell_type": "code",
      "source": [],
      "metadata": {
        "id": "TCqIzmIM9bcj"
      },
      "execution_count": null,
      "outputs": []
    },
    {
      "cell_type": "code",
      "execution_count": null,
      "metadata": {
        "colab": {
          "base_uri": "https://localhost:8080/"
        },
        "id": "bzkHRM8QtrWI",
        "outputId": "a86c14db-c35c-438c-c2f3-bd9ebb23ffc8"
      },
      "outputs": [
        {
          "output_type": "stream",
          "name": "stdout",
          "text": [
            "A area do circulo unitario vale:  3.1415\n"
          ]
        }
      ],
      "source": [
        "#CONTINUAÇÃO DA FUNÇÃO\n",
        "PI = 3.1415\n",
        "def area_circulo(raio):\n",
        "  return 3.1415 * raio **2\n",
        "\n",
        "print(\"A area do circulo unitario vale: \", area_circulo(1))"
      ]
    },
    {
      "cell_type": "code",
      "source": [],
      "metadata": {
        "id": "LbwbPNgXjXjo"
      },
      "execution_count": null,
      "outputs": []
    },
    {
      "cell_type": "code",
      "source": [
        "# variavel global versus local\n",
        "\n",
        "PI = 3.1415\n",
        "def area_circulo(raio):\n",
        "  PI=3 # Variavel local tem prioridade na função, mesmo qu tenha declarado o valor de PI na variavel global\n",
        "  return PI * raio **2\n",
        "\n",
        "print(\"A area do circulo unitario vale: \", area_circulo(1))\n",
        "print('PI=', PI)\n"
      ],
      "metadata": {
        "colab": {
          "base_uri": "https://localhost:8080/"
        },
        "id": "QN7SZt4EuJBi",
        "outputId": "eccc4514-83b9-46a7-e4a1-1249779258fc"
      },
      "execution_count": null,
      "outputs": [
        {
          "output_type": "stream",
          "name": "stdout",
          "text": [
            "A area do circulo unitario vale:  3\n",
            "PI= 3.1415\n"
          ]
        }
      ]
    },
    {
      "cell_type": "code",
      "source": [
        "#Função aninhada\n",
        "def externa():\n",
        "  print(\"Esta é a função externa!\")\n",
        "\n",
        "  def interna():\n",
        "    print(\"Esta á função interna!\")\n",
        "\n",
        "    interna()\n",
        "externa()\n"
      ],
      "metadata": {
        "colab": {
          "base_uri": "https://localhost:8080/"
        },
        "id": "RW8oAvQRvM-4",
        "outputId": "314c1675-aefd-4c86-ed72-8c7cce330e74"
      },
      "execution_count": null,
      "outputs": [
        {
          "output_type": "stream",
          "name": "stdout",
          "text": [
            "Esta é a função externa!\n"
          ]
        }
      ]
    },
    {
      "cell_type": "code",
      "source": [
        "# mais um modelo de aninhada\n",
        "def externa ():\n",
        "  print(\"Esta é a função externa\")\n",
        "\n",
        "  def interna ():\n",
        "    print (\"Esta é a função interna\")\n",
        "    print (f\"Valor de PI: {PI}\")\n",
        "\n",
        "  PI= 3.1415\n",
        "  interna()\n",
        "\n",
        "externa()"
      ],
      "metadata": {
        "colab": {
          "base_uri": "https://localhost:8080/"
        },
        "id": "Jjwy-TvNyErh",
        "outputId": "cc065cef-04d8-481e-ffeb-4fd7a0904324"
      },
      "execution_count": null,
      "outputs": [
        {
          "output_type": "stream",
          "name": "stdout",
          "text": [
            "Esta é a função externa\n",
            "Esta é a função interna\n",
            "Valor de PI: 3.1415\n"
          ]
        }
      ]
    },
    {
      "cell_type": "code",
      "source": [
        "#FUNÇÃO COMO ARGUMENTO\n",
        "def minha_funcao():\n",
        "  print(\"Olá, mundo!\")\n",
        "\n",
        "outra_funcao= minha_funcao\n",
        "outra_funcao ()\n",
        "\n",
        "def chamada(funcao):\n",
        "  funcao()\n",
        "\n",
        "chamada(minha_funcao)"
      ],
      "metadata": {
        "colab": {
          "base_uri": "https://localhost:8080/"
        },
        "id": "O9RPFUt1zC-m",
        "outputId": "c7510d4e-28a8-44d8-8c46-7eb450631781"
      },
      "execution_count": null,
      "outputs": [
        {
          "output_type": "stream",
          "name": "stdout",
          "text": [
            "Olá, mundo!\n",
            "Olá, mundo!\n"
          ]
        }
      ]
    },
    {
      "cell_type": "code",
      "source": [
        "#FUNÇÃO COMO OBJETO\n",
        "\n",
        "def criar_multiplicador(n):\n",
        "  def multiplicar(x):\n",
        "      return x * n\n",
        "  return multiplicar\n",
        "\n",
        "multiplicador_por_2: criar_multiplicador(2)\n",
        "multiplicador_por_3: criar_multiplicador(3)\n",
        "\n",
        "print(multiplicador_por_2(5))\n",
        "print(multiplicador_por_3(5))\n"
      ],
      "metadata": {
        "colab": {
          "base_uri": "https://localhost:8080/",
          "height": 193
        },
        "id": "E1qKPkHdz9vL",
        "outputId": "f78ee270-0a99-45b9-9d64-739f574e3113"
      },
      "execution_count": null,
      "outputs": [
        {
          "output_type": "error",
          "ename": "NameError",
          "evalue": "name 'multiplicador_por_2' is not defined",
          "traceback": [
            "\u001b[0;31m---------------------------------------------------------------------------\u001b[0m",
            "\u001b[0;31mNameError\u001b[0m                                 Traceback (most recent call last)",
            "\u001b[0;32m<ipython-input-14-840f965c35e0>\u001b[0m in \u001b[0;36m<cell line: 11>\u001b[0;34m()\u001b[0m\n\u001b[1;32m      9\u001b[0m \u001b[0mmultiplicador_por_3\u001b[0m\u001b[0;34m:\u001b[0m \u001b[0mcriar_multiplicador\u001b[0m\u001b[0;34m(\u001b[0m\u001b[0;36m3\u001b[0m\u001b[0;34m)\u001b[0m\u001b[0;34m\u001b[0m\u001b[0;34m\u001b[0m\u001b[0m\n\u001b[1;32m     10\u001b[0m \u001b[0;34m\u001b[0m\u001b[0m\n\u001b[0;32m---> 11\u001b[0;31m \u001b[0mprint\u001b[0m\u001b[0;34m(\u001b[0m\u001b[0mmultiplicador_por_2\u001b[0m\u001b[0;34m(\u001b[0m\u001b[0;36m5\u001b[0m\u001b[0;34m)\u001b[0m\u001b[0;34m)\u001b[0m\u001b[0;34m\u001b[0m\u001b[0;34m\u001b[0m\u001b[0m\n\u001b[0m\u001b[1;32m     12\u001b[0m \u001b[0mprint\u001b[0m\u001b[0;34m(\u001b[0m\u001b[0mmultiplicador_por_3\u001b[0m\u001b[0;34m(\u001b[0m\u001b[0;36m5\u001b[0m\u001b[0;34m)\u001b[0m\u001b[0;34m)\u001b[0m\u001b[0;34m\u001b[0m\u001b[0;34m\u001b[0m\u001b[0m\n",
            "\u001b[0;31mNameError\u001b[0m: name 'multiplicador_por_2' is not defined"
          ]
        }
      ]
    },
    {
      "cell_type": "code",
      "source": [
        "#FUNÇÃO EVAL\n",
        "\n",
        "def calculadora(operador):\n",
        "  def operacao(a,b):\n",
        "      return eval(f'{a} {operador} {b}')\n",
        "  return operacao\n",
        "\n",
        "soma = calculadora ('+')\n",
        "print(soma(5,3))\n",
        "subtracao = calculadora ('-')\n",
        "print(subtracao(10,4))\n",
        "multiplicacao = calculadora('*')\n",
        "print(multiplicacao(6,7))\n",
        "divisao= calculadora('/')\n",
        "print(divisao(20,4))\n",
        "\n"
      ],
      "metadata": {
        "colab": {
          "base_uri": "https://localhost:8080/"
        },
        "id": "0t4AaVKA1rbo",
        "outputId": "cf14271b-23af-4e3b-b094-9abf4df4d7eb"
      },
      "execution_count": null,
      "outputs": [
        {
          "output_type": "stream",
          "name": "stdout",
          "text": [
            "8\n",
            "6\n",
            "42\n",
            "5.0\n"
          ]
        }
      ]
    },
    {
      "cell_type": "code",
      "source": [
        "#FUNÇÃO RECURSIVA PARA CALCULO FATORIAL\n",
        "# Fatorial > 0  ---- Fatoria = 0 é 1\n",
        "def fatorial(n):\n",
        "  if n == 1:\n",
        "    return 1\n",
        "  else:\n",
        "    return n * fatorial(n-1)\n",
        "resultado= fatorial(5)\n",
        "print('O fatorial de 5 é: ', resultado)"
      ],
      "metadata": {
        "colab": {
          "base_uri": "https://localhost:8080/"
        },
        "id": "keDDTSvU3SLz",
        "outputId": "4cee9bf1-9a51-4543-a6bc-84dac54c9ba9"
      },
      "execution_count": null,
      "outputs": [
        {
          "output_type": "stream",
          "name": "stdout",
          "text": [
            "O fatorial de 5 é:  120\n"
          ]
        }
      ]
    },
    {
      "cell_type": "code",
      "source": [
        "#FUNÇÃO ITERATIVA RECURSIVA PARA CALCULO DE FATORIAL\n",
        "\n",
        "def fatorial(n):\n",
        "    fatorial=1\n",
        "    for i in range(2, n + 1):\n",
        "        fatorial *=i\n",
        "    return fatorial\n",
        "\n",
        "resultado= fatorial(5)\n",
        "print(\"O fatorial de 5 é:\", resultado)"
      ],
      "metadata": {
        "colab": {
          "base_uri": "https://localhost:8080/"
        },
        "id": "7OsuWgVt6-J2",
        "outputId": "bc8a28d2-f68f-4bfa-a729-62cdcd76eb83"
      },
      "execution_count": null,
      "outputs": [
        {
          "output_type": "stream",
          "name": "stdout",
          "text": [
            "O fatorial de 5 é: 120\n"
          ]
        }
      ]
    },
    {
      "cell_type": "code",
      "source": [
        "\n",
        "#funçao recursiva potencia (a,b)\n",
        "#potencia (a,b) = a* potencia (a, b-1)\n",
        "\n",
        "def potencia(a, b):\n",
        "  if b == 0:\n",
        "    return 1\n",
        "\n",
        "  else:\n",
        "    return a * potencia(a,b-1)\n",
        "\n",
        "print(potencia(5,3))\n",
        "\n"
      ],
      "metadata": {
        "colab": {
          "base_uri": "https://localhost:8080/"
        },
        "id": "HG6mGDp0794S",
        "outputId": "13ee358a-c421-4b03-83ab-61c6c51d8967"
      },
      "execution_count": null,
      "outputs": [
        {
          "output_type": "stream",
          "name": "stdout",
          "text": [
            "125\n"
          ]
        }
      ]
    },
    {
      "cell_type": "code",
      "source": [
        "\n",
        "#funçao iterativa potencia (a,b)\n",
        "#potencia (a,b) = a*a*....*a, b vezes\n",
        "\n",
        "def potenciaI(a,b):\n",
        "    pot=1\n",
        "    for i in range(b):\n",
        "        pot = pot * a\n",
        "    return pot\n",
        "\n",
        "print(potenciaI(5,3))"
      ],
      "metadata": {
        "colab": {
          "base_uri": "https://localhost:8080/"
        },
        "id": "eJ88XPK89upc",
        "outputId": "b826ee8b-e8ba-4ded-bb33-2f1c252d887b"
      },
      "execution_count": null,
      "outputs": [
        {
          "output_type": "stream",
          "name": "stdout",
          "text": [
            "125\n"
          ]
        }
      ]
    },
    {
      "cell_type": "code",
      "source": [
        "#FUNÇÃO LAMBDA\n",
        "quadrado= lambda x: x**2\n",
        "print(quadrado(3))"
      ],
      "metadata": {
        "colab": {
          "base_uri": "https://localhost:8080/"
        },
        "id": "i8WFV9MJK2xx",
        "outputId": "79ac3973-2985-4fdf-b9b8-f451aba48ed5"
      },
      "execution_count": null,
      "outputs": [
        {
          "output_type": "stream",
          "name": "stdout",
          "text": [
            "9\n"
          ]
        }
      ]
    },
    {
      "cell_type": "code",
      "source": [
        "#FUNÇÃO LAMBDA\n",
        "celsius_para_fahrenheit = lambda c: c*1.8 + 32\n",
        "print(celsius_para_fahrenheit(0))\n",
        "print(celsius_para_fahrenheit(21))\n",
        "print(celsius_para_fahrenheit(100))"
      ],
      "metadata": {
        "colab": {
          "base_uri": "https://localhost:8080/"
        },
        "id": "d7ymgZf0LGZ-",
        "outputId": "b8aa72dc-003d-4519-899b-1af48047ff10"
      },
      "execution_count": null,
      "outputs": [
        {
          "output_type": "stream",
          "name": "stdout",
          "text": [
            "32.0\n",
            "69.80000000000001\n",
            "212.0\n"
          ]
        }
      ]
    },
    {
      "cell_type": "code",
      "source": [
        "#FUNÇÃO LAMBDA outra opção\n",
        "celsius_para_fahrenheit = lambda c: c*9/5 + 32\n",
        "print(celsius_para_fahrenheit(0))\n",
        "print(celsius_para_fahrenheit(21))\n",
        "print(celsius_para_fahrenheit(100))"
      ],
      "metadata": {
        "colab": {
          "base_uri": "https://localhost:8080/"
        },
        "id": "Xs_axIrdL42J",
        "outputId": "b9dab6d3-186f-4e03-9659-6f2cf2665918"
      },
      "execution_count": null,
      "outputs": [
        {
          "output_type": "stream",
          "name": "stdout",
          "text": [
            "32.0\n",
            "69.8\n",
            "212.0\n"
          ]
        }
      ]
    },
    {
      "cell_type": "code",
      "source": [
        "#FUNÇÃO lambda max\n",
        "max = lambda a,b:a if a>b else b\n",
        "max(1,2)"
      ],
      "metadata": {
        "colab": {
          "base_uri": "https://localhost:8080/"
        },
        "id": "AQv46s_-MMYx",
        "outputId": "5bf6bc0f-f2af-45e3-e7ba-8e06fe1efa84"
      },
      "execution_count": null,
      "outputs": [
        {
          "output_type": "execute_result",
          "data": {
            "text/plain": [
              "2"
            ]
          },
          "metadata": {},
          "execution_count": 38
        }
      ]
    },
    {
      "cell_type": "code",
      "source": [
        "def decorador(funcao):\n",
        "  def wrapper():\n",
        "    print(\"Antes da chamada da função\")\n",
        "    funcao()\n",
        "    print(\"Depois da chamada da função\")\n",
        "  return wrapper\n",
        "\n",
        "@decorador\n",
        "def minha_funcao():\n",
        "  print(\"Função decorada\")\n",
        "\n",
        "minha_funcao()"
      ],
      "metadata": {
        "colab": {
          "base_uri": "https://localhost:8080/"
        },
        "id": "3SIJ8mcuNS0h",
        "outputId": "f597cd95-8831-4b11-a518-8306a39d5d39"
      },
      "execution_count": null,
      "outputs": [
        {
          "output_type": "stream",
          "name": "stdout",
          "text": [
            "Antes da chamada da função\n",
            "Função decorada\n",
            "Depois da chamada da função\n"
          ]
        }
      ]
    },
    {
      "cell_type": "code",
      "source": [
        "def estima_p(n):\n",
        "n="
      ],
      "metadata": {
        "id": "oQXe9VQ9PxXi"
      },
      "execution_count": null,
      "outputs": []
    },
    {
      "cell_type": "code",
      "source": [
        "def estima_pi(n):\n",
        "    \"\"\"\n",
        "    Calcula uma aproximação para o valor de π usando a série de Leibniz.\n",
        "\n",
        "    Args:\n",
        "        n (int): Número de parcelas (termos) usadas no cálculo.\n",
        "\n",
        "    Returns:\n",
        "        float: Aproximação para o valor de π.\n",
        "    \"\"\"\n",
        "    pi_aproximado = 0\n",
        "    sinal = 1  # Alterna o sinal dos termos\n",
        "\n",
        "    for i in range(1, n + 1):\n",
        "        termo = 1 / (2 * i - 1)  # Calcula o termo atual\n",
        "        pi_aproximado += sinal * termo\n",
        "        sinal *= -1  # Alterna o sinal para o próximo termo\n",
        "\n",
        "    return 4 * pi_aproximado\n",
        "\n",
        "# Exemplo de uso:\n",
        "n_termos = 1000  # Escolha o número de termos desejado\n",
        "aproximacao_pi = estima_pi(n_termos)\n",
        "print(f\"Aproximação para π com {n_termos} termos: {aproximacao_pi:.10f}\")"
      ],
      "metadata": {
        "colab": {
          "base_uri": "https://localhost:8080/"
        },
        "id": "iPhr-19lQTf7",
        "outputId": "c9491185-29d4-4904-ea7f-9037151eb385"
      },
      "execution_count": null,
      "outputs": [
        {
          "output_type": "stream",
          "name": "stdout",
          "text": [
            "Aproximação para π com 1000 termos: 3.1405926538\n"
          ]
        }
      ]
    },
    {
      "cell_type": "code",
      "source": [
        "#Algoritmo para cálculo de raiz quadrada\n",
        "def raiz(N):\n",
        "  \"\"\"\n",
        "  Calcule a raiz quadrada de um número N\n",
        "  Usando o algoritmo:\n",
        "  x_(n+1) = 1/2 * (x_n + N/x_n)\n",
        "  \"\"\"\n",
        "  x= 1\n",
        "  for n in range(100):\n",
        "    x= 1/2 * (x+ N/x)\n",
        "  return x"
      ],
      "metadata": {
        "id": "3A0AKqCHSgBz"
      },
      "execution_count": null,
      "outputs": []
    },
    {
      "cell_type": "code",
      "source": [
        "N= 5\n",
        "raiz(N)*raiz(N)"
      ],
      "metadata": {
        "colab": {
          "base_uri": "https://localhost:8080/"
        },
        "id": "4R1CWPKLUO-2",
        "outputId": "881eafa8-4154-4c39-e53d-4907a52e89cb"
      },
      "execution_count": null,
      "outputs": [
        {
          "output_type": "execute_result",
          "data": {
            "text/plain": [
              "5.000000000000001"
            ]
          },
          "metadata": {},
          "execution_count": 51
        }
      ]
    },
    {
      "cell_type": "code",
      "source": [
        "#Algoritmo para cálculo de raiz quadrada\n",
        "def raiz(N):\n",
        "  \"\"\"\n",
        "  Calcule a raiz quadrada de um número N\n",
        "  Usando o algoritmo:\n",
        "  x_(n+1) = 1/2 * (x_n + N/x_n)\n",
        "  \"\"\"\n",
        "  x= 1\n",
        "  for n in range(100):\n",
        "    print(f'n={n:3},x= {x:5.2f}, N/x= {N/x:5.2f}')\n",
        "    x= 1/2 * (x+ N/x)\n",
        "  return x\n",
        "N= 5\n",
        "raiz(N)*raiz(N)"
      ],
      "metadata": {
        "colab": {
          "base_uri": "https://localhost:8080/"
        },
        "id": "fOYCUlZbVX2x",
        "outputId": "87b925ef-d956-423c-a692-3115c5fbb873"
      },
      "execution_count": null,
      "outputs": [
        {
          "output_type": "stream",
          "name": "stdout",
          "text": [
            "n=  0,x=  1.00, N/x=  5.00\n",
            "n=  1,x=  3.00, N/x=  1.67\n",
            "n=  2,x=  2.33, N/x=  2.14\n",
            "n=  3,x=  2.24, N/x=  2.23\n",
            "n=  4,x=  2.24, N/x=  2.24\n",
            "n=  5,x=  2.24, N/x=  2.24\n",
            "n=  6,x=  2.24, N/x=  2.24\n",
            "n=  7,x=  2.24, N/x=  2.24\n",
            "n=  8,x=  2.24, N/x=  2.24\n",
            "n=  9,x=  2.24, N/x=  2.24\n",
            "n= 10,x=  2.24, N/x=  2.24\n",
            "n= 11,x=  2.24, N/x=  2.24\n",
            "n= 12,x=  2.24, N/x=  2.24\n",
            "n= 13,x=  2.24, N/x=  2.24\n",
            "n= 14,x=  2.24, N/x=  2.24\n",
            "n= 15,x=  2.24, N/x=  2.24\n",
            "n= 16,x=  2.24, N/x=  2.24\n",
            "n= 17,x=  2.24, N/x=  2.24\n",
            "n= 18,x=  2.24, N/x=  2.24\n",
            "n= 19,x=  2.24, N/x=  2.24\n",
            "n= 20,x=  2.24, N/x=  2.24\n",
            "n= 21,x=  2.24, N/x=  2.24\n",
            "n= 22,x=  2.24, N/x=  2.24\n",
            "n= 23,x=  2.24, N/x=  2.24\n",
            "n= 24,x=  2.24, N/x=  2.24\n",
            "n= 25,x=  2.24, N/x=  2.24\n",
            "n= 26,x=  2.24, N/x=  2.24\n",
            "n= 27,x=  2.24, N/x=  2.24\n",
            "n= 28,x=  2.24, N/x=  2.24\n",
            "n= 29,x=  2.24, N/x=  2.24\n",
            "n= 30,x=  2.24, N/x=  2.24\n",
            "n= 31,x=  2.24, N/x=  2.24\n",
            "n= 32,x=  2.24, N/x=  2.24\n",
            "n= 33,x=  2.24, N/x=  2.24\n",
            "n= 34,x=  2.24, N/x=  2.24\n",
            "n= 35,x=  2.24, N/x=  2.24\n",
            "n= 36,x=  2.24, N/x=  2.24\n",
            "n= 37,x=  2.24, N/x=  2.24\n",
            "n= 38,x=  2.24, N/x=  2.24\n",
            "n= 39,x=  2.24, N/x=  2.24\n",
            "n= 40,x=  2.24, N/x=  2.24\n",
            "n= 41,x=  2.24, N/x=  2.24\n",
            "n= 42,x=  2.24, N/x=  2.24\n",
            "n= 43,x=  2.24, N/x=  2.24\n",
            "n= 44,x=  2.24, N/x=  2.24\n",
            "n= 45,x=  2.24, N/x=  2.24\n",
            "n= 46,x=  2.24, N/x=  2.24\n",
            "n= 47,x=  2.24, N/x=  2.24\n",
            "n= 48,x=  2.24, N/x=  2.24\n",
            "n= 49,x=  2.24, N/x=  2.24\n",
            "n= 50,x=  2.24, N/x=  2.24\n",
            "n= 51,x=  2.24, N/x=  2.24\n",
            "n= 52,x=  2.24, N/x=  2.24\n",
            "n= 53,x=  2.24, N/x=  2.24\n",
            "n= 54,x=  2.24, N/x=  2.24\n",
            "n= 55,x=  2.24, N/x=  2.24\n",
            "n= 56,x=  2.24, N/x=  2.24\n",
            "n= 57,x=  2.24, N/x=  2.24\n",
            "n= 58,x=  2.24, N/x=  2.24\n",
            "n= 59,x=  2.24, N/x=  2.24\n",
            "n= 60,x=  2.24, N/x=  2.24\n",
            "n= 61,x=  2.24, N/x=  2.24\n",
            "n= 62,x=  2.24, N/x=  2.24\n",
            "n= 63,x=  2.24, N/x=  2.24\n",
            "n= 64,x=  2.24, N/x=  2.24\n",
            "n= 65,x=  2.24, N/x=  2.24\n",
            "n= 66,x=  2.24, N/x=  2.24\n",
            "n= 67,x=  2.24, N/x=  2.24\n",
            "n= 68,x=  2.24, N/x=  2.24\n",
            "n= 69,x=  2.24, N/x=  2.24\n",
            "n= 70,x=  2.24, N/x=  2.24\n",
            "n= 71,x=  2.24, N/x=  2.24\n",
            "n= 72,x=  2.24, N/x=  2.24\n",
            "n= 73,x=  2.24, N/x=  2.24\n",
            "n= 74,x=  2.24, N/x=  2.24\n",
            "n= 75,x=  2.24, N/x=  2.24\n",
            "n= 76,x=  2.24, N/x=  2.24\n",
            "n= 77,x=  2.24, N/x=  2.24\n",
            "n= 78,x=  2.24, N/x=  2.24\n",
            "n= 79,x=  2.24, N/x=  2.24\n",
            "n= 80,x=  2.24, N/x=  2.24\n",
            "n= 81,x=  2.24, N/x=  2.24\n",
            "n= 82,x=  2.24, N/x=  2.24\n",
            "n= 83,x=  2.24, N/x=  2.24\n",
            "n= 84,x=  2.24, N/x=  2.24\n",
            "n= 85,x=  2.24, N/x=  2.24\n",
            "n= 86,x=  2.24, N/x=  2.24\n",
            "n= 87,x=  2.24, N/x=  2.24\n",
            "n= 88,x=  2.24, N/x=  2.24\n",
            "n= 89,x=  2.24, N/x=  2.24\n",
            "n= 90,x=  2.24, N/x=  2.24\n",
            "n= 91,x=  2.24, N/x=  2.24\n",
            "n= 92,x=  2.24, N/x=  2.24\n",
            "n= 93,x=  2.24, N/x=  2.24\n",
            "n= 94,x=  2.24, N/x=  2.24\n",
            "n= 95,x=  2.24, N/x=  2.24\n",
            "n= 96,x=  2.24, N/x=  2.24\n",
            "n= 97,x=  2.24, N/x=  2.24\n",
            "n= 98,x=  2.24, N/x=  2.24\n",
            "n= 99,x=  2.24, N/x=  2.24\n",
            "n=  0,x=  1.00, N/x=  5.00\n",
            "n=  1,x=  3.00, N/x=  1.67\n",
            "n=  2,x=  2.33, N/x=  2.14\n",
            "n=  3,x=  2.24, N/x=  2.23\n",
            "n=  4,x=  2.24, N/x=  2.24\n",
            "n=  5,x=  2.24, N/x=  2.24\n",
            "n=  6,x=  2.24, N/x=  2.24\n",
            "n=  7,x=  2.24, N/x=  2.24\n",
            "n=  8,x=  2.24, N/x=  2.24\n",
            "n=  9,x=  2.24, N/x=  2.24\n",
            "n= 10,x=  2.24, N/x=  2.24\n",
            "n= 11,x=  2.24, N/x=  2.24\n",
            "n= 12,x=  2.24, N/x=  2.24\n",
            "n= 13,x=  2.24, N/x=  2.24\n",
            "n= 14,x=  2.24, N/x=  2.24\n",
            "n= 15,x=  2.24, N/x=  2.24\n",
            "n= 16,x=  2.24, N/x=  2.24\n",
            "n= 17,x=  2.24, N/x=  2.24\n",
            "n= 18,x=  2.24, N/x=  2.24\n",
            "n= 19,x=  2.24, N/x=  2.24\n",
            "n= 20,x=  2.24, N/x=  2.24\n",
            "n= 21,x=  2.24, N/x=  2.24\n",
            "n= 22,x=  2.24, N/x=  2.24\n",
            "n= 23,x=  2.24, N/x=  2.24\n",
            "n= 24,x=  2.24, N/x=  2.24\n",
            "n= 25,x=  2.24, N/x=  2.24\n",
            "n= 26,x=  2.24, N/x=  2.24\n",
            "n= 27,x=  2.24, N/x=  2.24\n",
            "n= 28,x=  2.24, N/x=  2.24\n",
            "n= 29,x=  2.24, N/x=  2.24\n",
            "n= 30,x=  2.24, N/x=  2.24\n",
            "n= 31,x=  2.24, N/x=  2.24\n",
            "n= 32,x=  2.24, N/x=  2.24\n",
            "n= 33,x=  2.24, N/x=  2.24\n",
            "n= 34,x=  2.24, N/x=  2.24\n",
            "n= 35,x=  2.24, N/x=  2.24\n",
            "n= 36,x=  2.24, N/x=  2.24\n",
            "n= 37,x=  2.24, N/x=  2.24\n",
            "n= 38,x=  2.24, N/x=  2.24\n",
            "n= 39,x=  2.24, N/x=  2.24\n",
            "n= 40,x=  2.24, N/x=  2.24\n",
            "n= 41,x=  2.24, N/x=  2.24\n",
            "n= 42,x=  2.24, N/x=  2.24\n",
            "n= 43,x=  2.24, N/x=  2.24\n",
            "n= 44,x=  2.24, N/x=  2.24\n",
            "n= 45,x=  2.24, N/x=  2.24\n",
            "n= 46,x=  2.24, N/x=  2.24\n",
            "n= 47,x=  2.24, N/x=  2.24\n",
            "n= 48,x=  2.24, N/x=  2.24\n",
            "n= 49,x=  2.24, N/x=  2.24\n",
            "n= 50,x=  2.24, N/x=  2.24\n",
            "n= 51,x=  2.24, N/x=  2.24\n",
            "n= 52,x=  2.24, N/x=  2.24\n",
            "n= 53,x=  2.24, N/x=  2.24\n",
            "n= 54,x=  2.24, N/x=  2.24\n",
            "n= 55,x=  2.24, N/x=  2.24\n",
            "n= 56,x=  2.24, N/x=  2.24\n",
            "n= 57,x=  2.24, N/x=  2.24\n",
            "n= 58,x=  2.24, N/x=  2.24\n",
            "n= 59,x=  2.24, N/x=  2.24\n",
            "n= 60,x=  2.24, N/x=  2.24\n",
            "n= 61,x=  2.24, N/x=  2.24\n",
            "n= 62,x=  2.24, N/x=  2.24\n",
            "n= 63,x=  2.24, N/x=  2.24\n",
            "n= 64,x=  2.24, N/x=  2.24\n",
            "n= 65,x=  2.24, N/x=  2.24\n",
            "n= 66,x=  2.24, N/x=  2.24\n",
            "n= 67,x=  2.24, N/x=  2.24\n",
            "n= 68,x=  2.24, N/x=  2.24\n",
            "n= 69,x=  2.24, N/x=  2.24\n",
            "n= 70,x=  2.24, N/x=  2.24\n",
            "n= 71,x=  2.24, N/x=  2.24\n",
            "n= 72,x=  2.24, N/x=  2.24\n",
            "n= 73,x=  2.24, N/x=  2.24\n",
            "n= 74,x=  2.24, N/x=  2.24\n",
            "n= 75,x=  2.24, N/x=  2.24\n",
            "n= 76,x=  2.24, N/x=  2.24\n",
            "n= 77,x=  2.24, N/x=  2.24\n",
            "n= 78,x=  2.24, N/x=  2.24\n",
            "n= 79,x=  2.24, N/x=  2.24\n",
            "n= 80,x=  2.24, N/x=  2.24\n",
            "n= 81,x=  2.24, N/x=  2.24\n",
            "n= 82,x=  2.24, N/x=  2.24\n",
            "n= 83,x=  2.24, N/x=  2.24\n",
            "n= 84,x=  2.24, N/x=  2.24\n",
            "n= 85,x=  2.24, N/x=  2.24\n",
            "n= 86,x=  2.24, N/x=  2.24\n",
            "n= 87,x=  2.24, N/x=  2.24\n",
            "n= 88,x=  2.24, N/x=  2.24\n",
            "n= 89,x=  2.24, N/x=  2.24\n",
            "n= 90,x=  2.24, N/x=  2.24\n",
            "n= 91,x=  2.24, N/x=  2.24\n",
            "n= 92,x=  2.24, N/x=  2.24\n",
            "n= 93,x=  2.24, N/x=  2.24\n",
            "n= 94,x=  2.24, N/x=  2.24\n",
            "n= 95,x=  2.24, N/x=  2.24\n",
            "n= 96,x=  2.24, N/x=  2.24\n",
            "n= 97,x=  2.24, N/x=  2.24\n",
            "n= 98,x=  2.24, N/x=  2.24\n",
            "n= 99,x=  2.24, N/x=  2.24\n"
          ]
        },
        {
          "output_type": "execute_result",
          "data": {
            "text/plain": [
              "5.000000000000001"
            ]
          },
          "metadata": {},
          "execution_count": 53
        }
      ]
    },
    {
      "cell_type": "code",
      "source": [
        "#função pitagoras\n",
        "def pitagoras (a,b):\n",
        "  \"\"\"\n",
        "  Calcula a hipotenusa\n",
        "  de triangulo retangulo de catetos a e b\n",
        "  \"\"\"\n",
        "  return raiz(a**2 +)"
      ],
      "metadata": {
        "id": "-F0lBoin0qZF"
      },
      "execution_count": null,
      "outputs": []
    },
    {
      "cell_type": "code",
      "source": [
        "# A solução da equação de 2o grau:a x2 + b x + c = 0 É dada por:x1 =−b− Δ2ae x2 =−b+ Δ2acom Δ = b2 − 4acQuando Δ for negativo (Δ < 0), a função deve imprimir amensagem “Delta menor do que zero!” e retornar None.Para retornar None, inclua a linha: return None"
      ],
      "metadata": {
        "id": "1VL_oUjl7WTK"
      },
      "execution_count": null,
      "outputs": []
    },
    {
      "cell_type": "code",
      "source": [
        "def solucao_equacao_segundo_grau(a, b, c):\n",
        "    delta = b ** 2 - 4 * a * c\n",
        "\n",
        "    if delta < 0:\n",
        "        print(\"Delta menor do que zero!\")\n",
        "        return None\n",
        "    else:\n",
        "        x1 = (-b - delta ** 0.5) / (2 * a)\n",
        "        x2 = (-b + delta ** 0.5) / (2 * a)\n",
        "        return x1, x2\n",
        "\n",
        "# Exemplo de uso:\n",
        "a = 1\n",
        "b = -3\n",
        "c = 2\n",
        "\n",
        "resultado = solucao_equacao_segundo_grau(a, b, c)\n",
        "print(resultado)"
      ],
      "metadata": {
        "colab": {
          "base_uri": "https://localhost:8080/"
        },
        "id": "3CPO_M-I-0XJ",
        "outputId": "60758c20-e441-4579-857c-cf3fa13def1a"
      },
      "execution_count": null,
      "outputs": [
        {
          "output_type": "stream",
          "name": "stdout",
          "text": [
            "(1.0, 2.0)\n"
          ]
        }
      ]
    },
    {
      "cell_type": "code",
      "source": [
        " # Função recursiva versus iterativa\n",
        " # Implemente as funções soma_recursiva(n) e soma_iterativa(n) que recebem o número inteiro n, n > 0, eretornam a soma dos números inteiros de 1 até n, isto é,retornam 1 + 2 + 3 + ⋯ + n"
      ],
      "metadata": {
        "id": "GmQt6r4n97VM"
      },
      "execution_count": null,
      "outputs": []
    },
    {
      "cell_type": "code",
      "source": [
        "def soma_recursiva(n):\n",
        "    if n == 1:\n",
        "        return 1\n",
        "    else:\n",
        "        return n + soma_recursiva(n - 1)\n",
        "\n",
        "def soma_iterativa(n):\n",
        "    soma = 0\n",
        "    for i in range(1, n + 1):\n",
        "        soma += i\n",
        "    return soma\n",
        "\n",
        "# Teste das funções\n",
        "n = 5\n",
        "print(\"Soma recursiva de 1 até\", n, \":\", soma_recursiva(n))\n",
        "print(\"Soma iterativa de 1 até\", n, \":\", soma_iterativa(n))"
      ],
      "metadata": {
        "colab": {
          "base_uri": "https://localhost:8080/"
        },
        "id": "7yv05n5q_l-O",
        "outputId": "4da515cc-d4e0-4e96-e9ea-d87f2a9adc81"
      },
      "execution_count": null,
      "outputs": [
        {
          "output_type": "stream",
          "name": "stdout",
          "text": [
            "Soma recursiva de 1 até 5 : 15\n",
            "Soma iterativa de 1 até 5 : 15\n"
          ]
        }
      ]
    },
    {
      "cell_type": "code",
      "source": [
        "# Crie uma função recursiva que retorna o n-ésimo termo dasequência de Fibonacci. A sequência de Fibonacci é da forma:1, 1, 2, 3, 5, 8, 13, 21, 34, ...\n",
        "#Onde o termo corrente é a soma dos dois termos anteriores,isto é, fibonacci(n) = fibonacci(n-1) + fibonacci(n-2).\n",
        "#Exemplos:\n",
        "#print(fibonacci(3)) # Saída esperada: 2 (1, 1, 2)\n",
        "#print(fibonacci(6)) # Saída esperada: 8 (1, 1, 2, 3, 5, 8)\n",
        "#print(fibonacci(9)) # Saída esperada: 34 (1, 1, 2, 3, 5, 8, 13, 21, 34)"
      ],
      "metadata": {
        "id": "_iz3YQmV_xzz"
      },
      "execution_count": null,
      "outputs": []
    },
    {
      "cell_type": "code",
      "source": [
        "def fibonacci(n):\n",
        "    if n <= 1:\n",
        "        return n\n",
        "    else:\n",
        "        return fibonacci(n-1) + fibonacci(n-2)\n",
        "\n",
        "# Exemplos de uso:\n",
        "print(fibonacci(3)) # Saída esperada: 2 (1, 1, 2)\n",
        "print(fibonacci(6)) # Saída esperada: 8 (1, 1, 2, 3, 5, 8)\n",
        "print(fibonacci(9)) # Saída esperada: 34"
      ],
      "metadata": {
        "colab": {
          "base_uri": "https://localhost:8080/"
        },
        "id": "2miEJ6TqHmBk",
        "outputId": "22a7aead-d9f0-424b-d69a-333d135b8966"
      },
      "execution_count": null,
      "outputs": [
        {
          "output_type": "stream",
          "name": "stdout",
          "text": [
            "2\n",
            "8\n",
            "34\n"
          ]
        }
      ]
    },
    {
      "cell_type": "code",
      "source": [
        " # A seguinte expressão pode aproximar quanto sequeira seu resultado ao número π = 3,141592653 ...:π = 4 × (1 −13+15−17+19−111 + ⋯ )Implemente em Python a função estima_pi(n), queretorna uma aproximação para o valor de π, onde né o número de parcelas (entre os parênteses) usadasno cálculo. Cheque seus resultados com a tabeladada. Nota: use boa prática e inclua documentaçãocom docstrings."
      ],
      "metadata": {
        "id": "6pzQloKGIQ-r"
      },
      "execution_count": null,
      "outputs": []
    },
    {
      "cell_type": "code",
      "source": [
        "def estima_pi(n):\n",
        "    \"\"\"\n",
        "    Estima o valor de π usando a série π = 4 × (1 − 1/3 + 1/5 − 1/7 + 1/9 − 1/11 + ...).\n",
        "\n",
        "    Parâmetros:\n",
        "        n (int): O número de termos na série a serem utilizados para a estimação de π.\n",
        "\n",
        "    Retorna:\n",
        "        float: Uma aproximação para o valor de π.\n",
        "    \"\"\"\n",
        "    pi_estimado = 0\n",
        "    sinal = 1\n",
        "    divisor = 1\n",
        "\n",
        "    for _ in range(n):\n",
        "        pi_estimado += sinal * (4 / divisor)\n",
        "        sinal *= -1\n",
        "        divisor += 2\n",
        "\n",
        "    return pi_estimado\n",
        "\n",
        "# Exemplo de uso:\n",
        "n = 1000\n",
        "pi_aproximado = estima_pi(n)\n",
        "print(\"Valor aproximado de π usando\", n, \"termos:\", pi_aproximado)"
      ],
      "metadata": {
        "colab": {
          "base_uri": "https://localhost:8080/"
        },
        "id": "fc4vHCsIXwSs",
        "outputId": "ffeb7a49-f2c9-44af-ecfe-a6333adff271"
      },
      "execution_count": null,
      "outputs": [
        {
          "output_type": "stream",
          "name": "stdout",
          "text": [
            "Valor aproximado de π usando 1000 termos: 3.140592653839794\n"
          ]
        }
      ]
    }
  ]
}